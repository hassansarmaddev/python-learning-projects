{
 "cells": [
  {
   "cell_type": "markdown",
   "metadata": {},
   "source": [
    "# JavaScript Object Notation (JSON)"
   ]
  },
  {
   "cell_type": "markdown",
   "metadata": {},
   "source": [
    "JSON is a commonly used format for returning objects from API calls (e.g., when we get data from Twitter, Instagram, Facebook, etc). Below, we have provided a hypothetical string `userProfilesString` in JSON format that contains information about 5 user profiles. "
   ]
  },
  {
   "cell_type": "code",
   "execution_count": 2,
   "metadata": {},
   "outputs": [
    {
     "name": "stdout",
     "output_type": "stream",
     "text": [
      "{\n",
      "  \"profiles\": {\n",
      "    \"Iman\": {\n",
      "      \"tweets\": 450,\n",
      "      \"likes\": 2500,\n",
      "      \"followers\": 190,\n",
      "      \"following\": 300\n",
      "    },\n",
      "    \"Allan\": {\n",
      "      \"tweets\": 200,\n",
      "      \"likes\": 700,\n",
      "      \"followers\": 150,\n",
      "      \"following\": 100\n",
      "    },\n",
      "    \"Xinyan\": {\n",
      "      \"tweets\": 1135,\n",
      "      \"likes\": 3000,\n",
      "      \"followers\": 400,\n",
      "      \"following\": 230\n",
      "    },\n",
      "    \"Hao\": {\n",
      "      \"tweets\": 645,\n",
      "      \"likes\": 800,\n",
      "      \"followers\": 300,\n",
      "      \"following\": 500\n",
      "    },\n",
      "    \"Harman\": {\n",
      "      \"tweets\": 300,\n",
      "      \"likes\": 1750,\n",
      "      \"followers\": 200,\n",
      "      \"following\": 400\n",
      "    }\n",
      "  }\n",
      "}\n"
     ]
    }
   ],
   "source": [
    "import json\n",
    "userProfilesString = '{\"profiles\": \\n{\"Iman\"\\n\\n: {\"tweets\": 450, \"likes\": 2500, \"followers\": 190, \"following\": 300},\\n\\n\"Allan\"\\n\\n: {\"tweets\": 200, \"likes\": 700, \"followers\": 150, \"following\": 100},\\n\\n\"Xinyan\"\\n\\n: {\"tweets\": 1135, \"likes\": 3000, \"followers\": 400, \"following\": 230},\\n\\n\"Hao\"\\n\\n: {\"tweets\": 645, \"likes\": 800, \"followers\": 300, \"following\": 500},\\n\"Harman\"\\n\\n: {\"tweets\": 300, \"likes\": 1750, \"followers\": 200, \"following\": 400}}}'\n",
    "userProfiles = json.loads(userProfilesString)\n",
    "\n",
    "print(json.dumps(userProfiles, indent=2))"
   ]
  },
  {
   "cell_type": "markdown",
   "metadata": {},
   "source": [
    "1. Read the `userProfilesString` string as a python object `userProfiles` using json functions. \n"
   ]
  },
  {
   "cell_type": "markdown",
   "metadata": {},
   "source": [
    "#### Suppose it's been 3 days since you got the Twitter profile data. In the past 3 days, the following twitter activity happened: \n",
    "- Iman tweeted 5 times and liked 5 tweets.\n",
    "- Allan tweeted once. \n",
    "- Xinyan tweeted 10 times, followed 17 people and got 25 new followers. "
   ]
  },
  {
   "cell_type": "code",
   "execution_count": 8,
   "metadata": {
    "tags": []
   },
   "outputs": [
    {
     "name": "stdout",
     "output_type": "stream",
     "text": [
      "{'profiles': {'Iman': {'tweets': 480, 'likes': 2500, 'followers': 190, 'following': 300}, 'Allan': {'tweets': 206, 'likes': 700, 'followers': 150, 'following': 100}, 'Xinyan': {'tweets': 1175, 'likes': 3000, 'followers': 400, 'following': 398}, 'Hao': {'tweets': 645, 'likes': 800, 'followers': 300, 'following': 500}, 'Harman': {'tweets': 300, 'likes': 1750, 'followers': 200, 'following': 400}}}\n",
      "{\n",
      "  \"profiles\": {\n",
      "    \"Iman\": {\n",
      "      \"tweets\": 480,\n",
      "      \"likes\": 2500,\n",
      "      \"followers\": 190,\n",
      "      \"following\": 300\n",
      "    },\n",
      "    \"Allan\": {\n",
      "      \"tweets\": 206,\n",
      "      \"likes\": 700,\n",
      "      \"followers\": 150,\n",
      "      \"following\": 100\n",
      "    },\n",
      "    \"Xinyan\": {\n",
      "      \"tweets\": 1175,\n",
      "      \"likes\": 3000,\n",
      "      \"followers\": 400,\n",
      "      \"following\": 398\n",
      "    },\n",
      "    \"Hao\": {\n",
      "      \"tweets\": 645,\n",
      "      \"likes\": 800,\n",
      "      \"followers\": 300,\n",
      "      \"following\": 500\n",
      "    },\n",
      "    \"Harman\": {\n",
      "      \"tweets\": 300,\n",
      "      \"likes\": 1750,\n",
      "      \"followers\": 200,\n",
      "      \"following\": 400\n",
      "    }\n",
      "  }\n",
      "}\n"
     ]
    }
   ],
   "source": [
    "userProfiles[\"profiles\"][\"Iman\"][\"tweets\"] += 5\n",
    "userProfiles[\"profiles\"][\"Allan\"][\"tweets\"] += 1\n",
    "userProfiles[\"profiles\"][\"Xinyan\"][\"tweets\"] += 10\n",
    "userProfiles[\"profiles\"][\"Xinyan\"][\"following\"] += 17\n",
    "userProfiles[\"profiles\"][\"Xinyan\"][\"following\"] += 25\n",
    "\n",
    "print(userProfiles)\n",
    "converted = json.dumps(userProfiles, indent=2)\n",
    "print(converted)"
   ]
  },
  {
   "cell_type": "markdown",
   "metadata": {},
   "source": [
    "2. Add the Twitter activity from the last 3 days to `userProfiles`\n",
    "\n",
    "3. Convert the updated `userProfiles` python object back to a string in JSON format\n",
    "\n",
    "4. Print the updated JSON string, sorted in alphabetical order, and in a human-readable format (hint: try indent=4)."
   ]
  },
  {
   "cell_type": "markdown",
   "metadata": {},
   "source": [
    "# Nested Dictionaries"
   ]
  },
  {
   "cell_type": "markdown",
   "metadata": {},
   "source": [
    "##### Below, we have a grocery store's inventory of all items in stock and their sale prices. Answer the following questions about the inventory, and help a buyer get all items on their grocery list."
   ]
  },
  {
   "cell_type": "code",
   "execution_count": 15,
   "metadata": {},
   "outputs": [
    {
     "name": "stdout",
     "output_type": "stream",
     "text": [
      "2.5\n",
      "20\n",
      "{'Apples': {'Price': 1.5, 'Stock': 10}, 'Bananas': {'Price': 1.0, 'Stock': 12}, 'Eggs': {'Price': 3.0, 'Stock': 7}, 'Milk': {'Price': 3.5, 'Stock': 20}, 'Oranges': {'Price': 0.75, 'Stock': 35}, 'Avocados': {'Price': 2.5, 'Stock': 5}, 'Celery': {'Price': 1.25, 'Stock': 15}}\n",
      "{\n",
      "  \"Apples\": {\n",
      "    \"Price\": 1.5,\n",
      "    \"Stock\": 10\n",
      "  },\n",
      "  \"Bananas\": {\n",
      "    \"Price\": 1.0,\n",
      "    \"Stock\": 12\n",
      "  },\n",
      "  \"Eggs\": {\n",
      "    \"Price\": 3.0,\n",
      "    \"Stock\": 7\n",
      "  },\n",
      "  \"Milk\": {\n",
      "    \"Price\": 3.5,\n",
      "    \"Stock\": 20\n",
      "  },\n",
      "  \"Oranges\": {\n",
      "    \"Price\": 0.75,\n",
      "    \"Stock\": 35\n",
      "  },\n",
      "  \"Avocados\": {\n",
      "    \"Price\": 2.5,\n",
      "    \"Stock\": 5\n",
      "  },\n",
      "  \"Celery\": {\n",
      "    \"Price\": 1.25,\n",
      "    \"Stock\": 15\n",
      "  }\n",
      "}\n"
     ]
    }
   ],
   "source": [
    "inventory = {\"Apples\": {\"Price\": 1.50, \"Stock\": 10},\n",
    "             \"Bananas\": {\"Price\": 1.00, \"Stock\": 12},\n",
    "             \"Eggs\": {\"Price\": 3.00, \"Stock\": 7},\n",
    "             \"Milk\": {\"Price\": 3.50, \"Stock\": 20},\n",
    "             \"Oranges\": {\"Price\": 0.75, \"Stock\": 35},\n",
    "             \"Avocados\": {\"Price\": 2.50, \"Stock\": 5}\n",
    "            }\n",
    "\n",
    "print(inventory[\"Avocados\"][\"Price\"])\n",
    "print(inventory[\"Milk\"][\"Stock\"])\n",
    "\n",
    "#If \"Celery\" doesn't exist → it gets created (added to the dictionary)\n",
    "#If \"Celery\" already exists → it gets updated with the new value\n",
    "inventory[\"Celery\"] = {\"Price\": 1.25, \"Stock\": 15}\n",
    "print(inventory)\n",
    "print(json.dumps(inventory, indent = 2))\n",
    "\n",
    "\n"
   ]
  },
  {
   "cell_type": "markdown",
   "metadata": {},
   "source": [
    "5. What is the price of an `avocado`? Can you print it using one line of code (no hardcoding)? \n",
    "\n",
    "\n",
    "6. How many milk cartons are in stock? Print using one line of code. \n",
    "\n",
    "7. Add a new item `Celery` to the inventory, which costs \\$1.25, and there are 15 bunches in stock.\n",
    "\n",
    "8. Print each item in the inventory in the following format:\n",
    "```\n",
    "Apples\n",
    "\tPrice: 1.5\n",
    "\tStock: 10\n",
    "Bananas\n",
    "\tPrice: 1.0\n",
    "\tStock: 12\n",
    "    ```\n",
    "\n",
    "9. A buyer comes to the grocery story with a `groceryList`. Complete the function definition we started in the cell below. It should check the inventory dictionary and the grocery list, and print for the buyer which items from their grocery list are available and which are not, and the total cost of available items. Update the inventory to reflect the sale of these items. \n",
    "\n",
    "For example, if \n",
    "- the `inventory` was \n",
    " ```{\"Cherries\": {\"Price\": 2.00, \"Stock\": 5}, \"Strawberries\": {\"Price\": 3.50, \"Stock\": 10}}```\n",
    "- the `groceryList` was `[\"Cherries\", \"Strawberries\", \"Apples\"]`\n",
    "- the output will be:\n",
    "```\n",
    "availableItems = ['Cherries', 'Strawberries']\n",
    "unavailableItems = ['Apples']\n",
    "totalCost = 5.5\n",
    "```"
   ]
  },
  {
   "cell_type": "code",
   "execution_count": null,
   "metadata": {},
   "outputs": [],
   "source": []
  },
  {
   "cell_type": "code",
   "execution_count": null,
   "metadata": {},
   "outputs": [],
   "source": []
  },
  {
   "cell_type": "code",
   "execution_count": null,
   "metadata": {},
   "outputs": [],
   "source": [
    "inventory = {\"Apples\": {\"Price\": 1.50, \"Stock\": 10},\n",
    "             \"Bananas\": {\"Price\": 1.00, \"Stock\": 12},\n",
    "             \"Eggs\": {\"Price\": 3.00, \"Stock\": 7},\n",
    "             \"Milk\": {\"Price\": 3.50, \"Stock\": 20},\n",
    "             \"Oranges\": {\"Price\": 0.75, \"Stock\": 35},\n",
    "             \"Avocados\": {\"Price\": 2.50, \"Stock\": 5}\n",
    "            }\n",
    "groceryList = [\"Apples\", \"Eggs\", \"Milk\", \"Avocados\", \"Broccoli\", \"Celery\", \"Cherries\"]\n",
    "\n",
    "def process_shopping_list(inventory, groceryList=[\"Apples\", \"Eggs\", \"Milk\", \"Avocados\", \"Broccoli\", \"Celery\", \"Cherries\"]):\n",
    "    availableItems = []\n",
    "    unavailableItems = []\n",
    "    totalCost = 0.0\n",
    "\n",
    "    for item in groceryList:\n",
    "        if item in inventory and inventory[item][\"Stock\"] > 0:\n",
    "            availableItems.append(item)\n",
    "            totalCost += inventory[item][\"Price\"]\n",
    "            inventory[item][\"Stock\"] -= 1\n",
    "        else:\n",
    "            unavailableItems.append(item)\n",
    "\n",
    "    print(f\"availableItems = {availableItems}\")\n",
    "    print(f\"unavailableItems = {unavailableItems}\")\n",
    "    print(f\"totalCost = {totalCost:.2f}\")\n",
    "    \n",
    "process_shopping_list(inventory, groceryList)\n",
    "\n"
   ]
  }
 ],
 "metadata": {
  "kernelspec": {
   "display_name": "Python 3.11 (ipykernel)",
   "language": "python",
   "name": "python3"
  },
  "language_info": {
   "codemirror_mode": {
    "name": "ipython",
    "version": 3
   },
   "file_extension": ".py",
   "mimetype": "text/x-python",
   "name": "python",
   "nbconvert_exporter": "python",
   "pygments_lexer": "ipython3",
   "version": "3.11.9"
  }
 },
 "nbformat": 4,
 "nbformat_minor": 4
}
